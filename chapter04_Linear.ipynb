{
 "cells": [
  {
   "cell_type": "code",
   "execution_count": 1,
   "metadata": {
    "collapsed": true
   },
   "outputs": [],
   "source": [
    "import tensorflow as tf\n",
    "import matplotlib.pyplot as plt"
   ]
  },
  {
   "cell_type": "code",
   "execution_count": 3,
   "metadata": {},
   "outputs": [
    {
     "data": {
      "text/plain": [
       "'1.4.0'"
      ]
     },
     "execution_count": 3,
     "metadata": {},
     "output_type": "execute_result"
    }
   ],
   "source": [
    "tf.__version__"
   ]
  },
  {
   "cell_type": "markdown",
   "metadata": {},
   "source": [
    "### 하이퍼 파라미터 설정하기"
   ]
  },
  {
   "cell_type": "code",
   "execution_count": 4,
   "metadata": {
    "collapsed": true
   },
   "outputs": [],
   "source": [
    "learning_rate = 0.01\n",
    "num_epochs = 1000\n",
    "step_display = 50"
   ]
  },
  {
   "cell_type": "markdown",
   "metadata": {},
   "source": [
    "### 학습에 이용할 데이터 정의"
   ]
  },
  {
   "cell_type": "code",
   "execution_count": 5,
   "metadata": {
    "collapsed": true
   },
   "outputs": [],
   "source": [
    "x = [2.7, 4.8, 9.3, 13.4, 24.8, 31.3, 48.5, 53.0, 68.1, 74.2, 88.6, 94.5]\n",
    "y = [7.0, 28.8, 22.8, 67.1, 48.8, 100.2, 140.0, 190.2, 215.2, 285.6, 260.3, 251.1]"
   ]
  },
  {
   "cell_type": "code",
   "execution_count": 8,
   "metadata": {},
   "outputs": [
    {
     "data": {
      "text/plain": [
       "12"
      ]
     },
     "execution_count": 8,
     "metadata": {},
     "output_type": "execute_result"
    }
   ],
   "source": [
    "assert len(x) == len(y)\n",
    "len(x)"
   ]
  },
  {
   "cell_type": "code",
   "execution_count": 10,
   "metadata": {},
   "outputs": [],
   "source": [
    "weight = tf.Variable(tf.random_uniform([1], -1.0, 1.0), name = 'weight')\n",
    "bias = tf.Variable(tf.random_uniform([1], -1.0, 1.0), name = 'bias')\n",
    "# tf.random_uniform():무작위 수로 초기화 [1] 변수의 형태를, -1.0 ~ 1.0 사이의 스칼라 값으로 무작위 생성"
   ]
  },
  {
   "cell_type": "code",
   "execution_count": 11,
   "metadata": {
    "collapsed": true
   },
   "outputs": [],
   "source": [
    "x_true = tf.placeholder(dtype = tf.float32, name = 'x_true')\n",
    "y_true = tf.placeholder(dtype = tf.float32, name = 'y_true')\n",
    "# tf.placeholder(): 그래프를 구축할 때 메모리에 저장하지 않으며, 그래프 실제 실행 시 피드하면서 메모리에 저장"
   ]
  },
  {
   "cell_type": "markdown",
   "metadata": {},
   "source": [
    "### 그래프 만들기"
   ]
  },
  {
   "cell_type": "code",
   "execution_count": 13,
   "metadata": {
    "collapsed": true
   },
   "outputs": [],
   "source": [
    "y_pred = tf.add(tf.multiply(weight, x_true), bias)\n",
    "# wieght*x_true + bias"
   ]
  },
  {
   "cell_type": "code",
   "execution_count": 14,
   "metadata": {},
   "outputs": [],
   "source": [
    "cost = tf.reduce_mean(tf.square(y_pred - y_true))\n",
    "# (y_pred - y_true)^2 / n"
   ]
  },
  {
   "cell_type": "code",
   "execution_count": 15,
   "metadata": {
    "collapsed": true
   },
   "outputs": [],
   "source": [
    "optimizer = tf.train.AdamOptimizer(learning_rate).minimize(cost)\n",
    "# 비용을 최소화 할 Optimizer 정의"
   ]
  },
  {
   "cell_type": "markdown",
   "metadata": {},
   "source": [
    "### 학습 시작하기"
   ]
  },
  {
   "cell_type": "code",
   "execution_count": 16,
   "metadata": {
    "collapsed": true
   },
   "outputs": [],
   "source": [
    "# 모든 전역변수 초기화\n",
    "init = tf.global_variables_initializer()\n",
    "sess = tf.Session()\n",
    "sess.run(init)"
   ]
  },
  {
   "cell_type": "code",
   "execution_count": 18,
   "metadata": {},
   "outputs": [
    {
     "name": "stdout",
     "output_type": "stream",
     "text": [
      "Epoch: 50, cost: 9798.1416015625, weight: [ 1.29573131], bias: [ 0.51011848]\n",
      "Epoch: 100, cost: 5888.18896484375, weight: [ 1.72419727], bias: [ 0.94002545]\n",
      "Epoch: 150, cost: 3431.718017578125, weight: [ 2.08470201], bias: [ 1.30369306]\n",
      "Epoch: 200, cost: 2004.7626953125, weight: [ 2.37582111], bias: [ 1.60011375]\n",
      "Epoch: 250, cost: 1245.0501708984375, weight: [ 2.60020494], bias: [ 1.83224404]\n",
      "Epoch: 300, cost: 876.9251098632812, weight: [ 2.76454306], bias: [ 2.00690866]\n",
      "Epoch: 350, cost: 715.2675170898438, weight: [ 2.87860632], bias: [ 2.13382125]\n",
      "Epoch: 400, cost: 651.0455932617188, weight: [ 2.95354247], bias: [ 2.22392702]\n",
      "Epoch: 450, cost: 627.9575805664062, weight: [ 3.00011969], bias: [ 2.2877264]\n",
      "Epoch: 500, cost: 620.4229125976562, weight: [ 3.02749515], bias: [ 2.33410788]\n",
      "Epoch: 550, cost: 618.1641845703125, weight: [ 3.04267859], bias: [ 2.36985564]\n",
      "Epoch: 600, cost: 617.5136108398438, weight: [ 3.05058098], bias: [ 2.39970803]\n",
      "Epoch: 650, cost: 617.3014526367188, weight: [ 3.05438113], bias: [ 2.42672729]\n",
      "Epoch: 700, cost: 617.1961059570312, weight: [ 3.05599809], bias: [ 2.45275068]\n",
      "Epoch: 750, cost: 617.1111450195312, weight: [ 3.05651212], bias: [ 2.47880554]\n",
      "Epoch: 800, cost: 617.0289916992188, weight: [ 3.05649734], bias: [ 2.50542903]\n",
      "Epoch: 850, cost: 616.9443969726562, weight: [ 3.0562377], bias: [ 2.53288031]\n",
      "Epoch: 900, cost: 616.8576049804688, weight: [ 3.05586576], bias: [ 2.56127214]\n",
      "Epoch: 950, cost: 616.7682495117188, weight: [ 3.05544043], bias: [ 2.59064722]\n",
      "Epoch: 1000, cost: 616.6764526367188, weight: [ 3.05498528], bias: [ 2.62101579]\n",
      "최적화 작업을 완료했습니다.\n"
     ]
    }
   ],
   "source": [
    "for epoch in range(num_epochs):\n",
    "    _, c = sess.run([optimizer, cost], feed_dict = {x_true: x, y_true: y})\n",
    "    if (epoch+1) % step_display == 0:\n",
    "        print(\"Epoch: {0}, cost: {1}, weight: {2}, bias: {3}\".format(\n",
    "        epoch+1, c, sess.run(weight), sess.run(bias)))\n",
    "print(\"최적화 작업을 완료했습니다.\")"
   ]
  },
  {
   "cell_type": "code",
   "execution_count": 20,
   "metadata": {},
   "outputs": [
    {
     "name": "stdout",
     "output_type": "stream",
     "text": [
      "최종 cost: 616.6764526367188\n",
      "최종 weight: [ 3.05498528]\n",
      "최종 cost: [ 2.62101579]\n"
     ]
    }
   ],
   "source": [
    "training_cost = sess.run(cost, feed_dict = {x_true: x, y_true: y})\n",
    "print (\"최종 cost: {}\".format(c))\n",
    "print (\"최종 weight: {}\".format(sess.run(weight)))\n",
    "print (\"최종 cost: {}\".format(sess.run(bias)))"
   ]
  },
  {
   "cell_type": "markdown",
   "metadata": {},
   "source": [
    "### 그래프로 직선 비교하기"
   ]
  },
  {
   "cell_type": "markdown",
   "metadata": {},
   "source": [
    "- ro에서 r은 빨간색을 o는 동그라미를 의미합니다.\n",
    "- 학습의 결과로 얻은 최적화된 선을 그립니다.\n",
    "- 범례(legend())를 보여줍니다.\n",
    "- 시각화한 그래프를 출력합니다."
   ]
  },
  {
   "cell_type": "code",
   "execution_count": 21,
   "metadata": {},
   "outputs": [
    {
     "data": {
      "image/png": "[encoded data removed]",
      "text/plain": [
       "<matplotlib.figure.Figure at 0x2c503a406d8>"
      ]
     },
     "metadata": {},
     "output_type": "display_data"
    }
   ],
   "source": [
    "plt.plot(x, y, 'ro', label = 'Original data')\n",
    "plt.plot(x, sess.run(weight)*x + sess.run(bias), label = 'Optimized line')\n",
    "plt.legend()\n",
    "plt.show()"
   ]
  },
  {
   "cell_type": "code",
   "execution_count": 22,
   "metadata": {
    "collapsed": true
   },
   "outputs": [],
   "source": [
    "sess.close()"
   ]
  },
  {
   "cell_type": "code",
   "execution_count": null,
   "metadata": {
    "collapsed": true
   },
   "outputs": [],
   "source": []
  },
  {
   "cell_type": "code",
   "execution_count": null,
   "metadata": {
    "collapsed": true
   },
   "outputs": [],
   "source": []
  },
  {
   "cell_type": "code",
   "execution_count": null,
   "metadata": {
    "collapsed": true
   },
   "outputs": [],
   "source": []
  },
  {
   "cell_type": "code",
   "execution_count": null,
   "metadata": {
    "collapsed": true
   },
   "outputs": [],
   "source": []
  },
  {
   "cell_type": "code",
   "execution_count": null,
   "metadata": {
    "collapsed": true
   },
   "outputs": [],
   "source": []
  },
  {
   "cell_type": "code",
   "execution_count": null,
   "metadata": {
    "collapsed": true
   },
   "outputs": [],
   "source": []
  }
 ],
 "metadata": {
  "kernelspec": {
   "display_name": "Python 3",
   "language": "python",
   "name": "python3"
  },
  "language_info": {
   "codemirror_mode": {
    "name": "ipython",
    "version": 3
   },
   "file_extension": ".py",
   "mimetype": "text/x-python",
   "name": "python",
   "nbconvert_exporter": "python",
   "pygments_lexer": "ipython3",
   "version": "3.6.3"
  }
 },
 "nbformat": 4,
 "nbformat_minor": 2
}
